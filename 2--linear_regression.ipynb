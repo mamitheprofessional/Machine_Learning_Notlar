{
 "cells": [
  {
   "cell_type": "code",
   "execution_count": 177,
   "metadata": {},
   "outputs": [],
   "source": [
    "import numpy as np\n",
    "import pandas as pd\n",
    "import matplotlib.pyplot as plt\n",
    "import seaborn as sns\n",
    "\n",
    "pd.set_option('display.float_format', lambda x: '%.2f' % x) # virgülden sonra 2 basamak göster\n",
    "\n",
    "from sklearn.linear_model import LinearRegression\n",
    "from sklearn.metrics import mean_squared_error, mean_absolute_error\n",
    "from sklearn.model_selection import train_test_split, cross_val_score"
   ]
  },
  {
   "cell_type": "code",
   "execution_count": 178,
   "metadata": {},
   "outputs": [
    {
     "data": {
      "text/html": [
       "<div>\n",
       "<style scoped>\n",
       "    .dataframe tbody tr th:only-of-type {\n",
       "        vertical-align: middle;\n",
       "    }\n",
       "\n",
       "    .dataframe tbody tr th {\n",
       "        vertical-align: top;\n",
       "    }\n",
       "\n",
       "    .dataframe thead th {\n",
       "        text-align: right;\n",
       "    }\n",
       "</style>\n",
       "<table border=\"1\" class=\"dataframe\">\n",
       "  <thead>\n",
       "    <tr style=\"text-align: right;\">\n",
       "      <th></th>\n",
       "      <th>TV</th>\n",
       "      <th>radio</th>\n",
       "      <th>newspaper</th>\n",
       "      <th>sales</th>\n",
       "    </tr>\n",
       "  </thead>\n",
       "  <tbody>\n",
       "    <tr>\n",
       "      <th>0</th>\n",
       "      <td>230.10</td>\n",
       "      <td>37.80</td>\n",
       "      <td>69.20</td>\n",
       "      <td>22.10</td>\n",
       "    </tr>\n",
       "    <tr>\n",
       "      <th>1</th>\n",
       "      <td>44.50</td>\n",
       "      <td>39.30</td>\n",
       "      <td>45.10</td>\n",
       "      <td>10.40</td>\n",
       "    </tr>\n",
       "    <tr>\n",
       "      <th>2</th>\n",
       "      <td>17.20</td>\n",
       "      <td>45.90</td>\n",
       "      <td>69.30</td>\n",
       "      <td>9.30</td>\n",
       "    </tr>\n",
       "    <tr>\n",
       "      <th>3</th>\n",
       "      <td>151.50</td>\n",
       "      <td>41.30</td>\n",
       "      <td>58.50</td>\n",
       "      <td>18.50</td>\n",
       "    </tr>\n",
       "    <tr>\n",
       "      <th>4</th>\n",
       "      <td>180.80</td>\n",
       "      <td>10.80</td>\n",
       "      <td>58.40</td>\n",
       "      <td>12.90</td>\n",
       "    </tr>\n",
       "  </tbody>\n",
       "</table>\n",
       "</div>"
      ],
      "text/plain": [
       "      TV  radio  newspaper  sales\n",
       "0 230.10  37.80      69.20  22.10\n",
       "1  44.50  39.30      45.10  10.40\n",
       "2  17.20  45.90      69.30   9.30\n",
       "3 151.50  41.30      58.50  18.50\n",
       "4 180.80  10.80      58.40  12.90"
      ]
     },
     "execution_count": 178,
     "metadata": {},
     "output_type": "execute_result"
    }
   ],
   "source": [
    "df = pd.read_csv(\"datasets/advertising.csv\")\n",
    "df.head() # 1 bağımlı (sales) 3 bağımsız değişken var"
   ]
  },
  {
   "cell_type": "markdown",
   "metadata": {},
   "source": [
    "yine biraz teorikten gidersek"
   ]
  },
  {
   "cell_type": "code",
   "execution_count": 179,
   "metadata": {},
   "outputs": [
    {
     "data": {
      "text/plain": [
       "np.float64(7.032593549127695)"
      ]
     },
     "execution_count": 179,
     "metadata": {},
     "output_type": "execute_result"
    }
   ],
   "source": [
    "X = df[[\"TV\"]]\n",
    "y = df[[\"sales\"]]\n",
    "# basit bir örnek için iki değişkeni atadık\n",
    "\n",
    "# modeli kurmakda bukadar\n",
    "reg_model = LinearRegression().fit(X, y)\n",
    "# fit işlemi doğru eğimi ve kesişimi bulur yani model en iyi doğrusal ilişkiyi bulmak için veriyi işler ama tahmin yapmaz\n",
    "# satış ile tv arasında matematik modelini ayarlıyor grafikte çizgiyi doğru yere koymaya yarıyor\n",
    "# tahmin yapma işini predict metodu yapar\n",
    "\n",
    "\n",
    "# y_hat = b + w*X  ---> bu bizim lineer regresyon formülümüzdü\n",
    "\n",
    "# sabit (b - bias)\n",
    "reg_model.intercept_[0] # dönen değerde b sabitimizin değeri yani scikit learn kütüphanesi için intercept_\n",
    "\n"
   ]
  },
  {
   "cell_type": "code",
   "execution_count": 180,
   "metadata": {},
   "outputs": [
    {
     "data": {
      "text/plain": [
       "np.float64(0.04753664043301975)"
      ]
     },
     "execution_count": 180,
     "metadata": {},
     "output_type": "execute_result"
    }
   ],
   "source": [
    "# y_hat = b + w*TV ---> tv için\n",
    "# tv'nin katsayısı (yani w1 yani ağırlık)\n",
    "reg_model.coef_[0][0] # yine scikit learn kütüphanesi coeficiant olarak isimlendirmiş\n"
   ]
  },
  {
   "cell_type": "code",
   "execution_count": 181,
   "metadata": {},
   "outputs": [
    {
     "data": {
      "text/plain": [
       "np.float64(14.163089614080658)"
      ]
     },
     "execution_count": 181,
     "metadata": {},
     "output_type": "execute_result"
    }
   ],
   "source": [
    "# şimdi bunları birleştirelim mesela 150 birimlik tv harcaması olsa ne kadar satış olması beklenir\n",
    "reg_model.intercept_[0] + reg_model.coef_[0][0]*150 # --> b + w*TV yani\n",
    "# çıktı cevabı verdi 14 birimlikmiş"
   ]
  },
  {
   "cell_type": "code",
   "execution_count": 182,
   "metadata": {},
   "outputs": [
    {
     "data": {
      "image/png": "[encoded data removed]",
      "text/plain": [
       "<Figure size 640x480 with 1 Axes>"
      ]
     },
     "metadata": {},
     "output_type": "display_data"
    }
   ],
   "source": [
    "# Modelin Görselleştirilmesi\n",
    "g = sns.regplot(x=X, y=y, scatter_kws={'color': 'b', 's': 9},\n",
    "                ci=False, color=\"r\")\n",
    "\n",
    "g.set_title(f\"Model Denklemi: Sales = {round(reg_model.intercept_[0], 2)} + TV*{round(reg_model.coef_[0][0], 2)}\")\n",
    "g.set_ylabel(\"Satış Sayısı\")\n",
    "g.set_xlabel(\"TV Harcamaları\")\n",
    "plt.xlim(-10, 310)\n",
    "plt.ylim(bottom=0)\n",
    "plt.show()\n"
   ]
  },
  {
   "cell_type": "code",
   "execution_count": 183,
   "metadata": {},
   "outputs": [
    {
     "data": {
      "text/plain": [
       "10.512652915656757"
      ]
     },
     "execution_count": 183,
     "metadata": {},
     "output_type": "execute_result"
    }
   ],
   "source": [
    "# şimdi olması gereken şekilde tüm değerleri tahmin edelim\n",
    "y_predict = reg_model.predict(X) # X teki veriye bakarak(tv) yeni hedef tahminlerini yapıyor\n",
    "# MSE ilede ortalama hata değerleri kareleri buluyorduk\n",
    "mean_squared_error(y, y_predict) # tahmin edilen değerlerle gerçek değerlere bakıyoruz\n"
   ]
  },
  {
   "cell_type": "code",
   "execution_count": 184,
   "metadata": {},
   "outputs": [
    {
     "data": {
      "text/plain": [
       "np.float64(3.2423221486546887)"
      ]
     },
     "execution_count": 184,
     "metadata": {},
     "output_type": "execute_result"
    }
   ],
   "source": [
    "# 10 birim çıktı kökü alırsak yani RMSE\n",
    "np.sqrt(mean_squared_error(y, y_predict))\n",
    "# 3.24"
   ]
  },
  {
   "cell_type": "code",
   "execution_count": 185,
   "metadata": {},
   "outputs": [
    {
     "data": {
      "text/plain": [
       "sales   14.02\n",
       "dtype: float64"
      ]
     },
     "execution_count": 185,
     "metadata": {},
     "output_type": "execute_result"
    }
   ],
   "source": [
    "y.mean()\n",
    "# ve ortalama satış birimide 14 müş yani 3.24 çokta küçük bir hata payı değil"
   ]
  },
  {
   "cell_type": "code",
   "execution_count": 186,
   "metadata": {},
   "outputs": [
    {
     "data": {
      "text/plain": [
       "2.549806038927486"
      ]
     },
     "execution_count": 186,
     "metadata": {},
     "output_type": "execute_result"
    }
   ],
   "source": [
    "# veya MAE ile bakalım\n",
    "mean_absolute_error(y, y_predict)\n",
    "# buda 2.54\n",
    "# dikkat eğer MSE kullanıldıysa optimize ettikten sonra yine MSE ile yeni değere bakılır\n",
    "# veya MAE kullanıldıysa optimize sonraso yine MAE ye bakılır ne kadar düşmüş diye\n",
    "# yani örnek MSE kullandıktan sonra başka bir hata metriğine bakma birinden yürü"
   ]
  },
  {
   "cell_type": "code",
   "execution_count": 187,
   "metadata": {},
   "outputs": [
    {
     "data": {
      "text/plain": [
       "0.611875050850071"
      ]
     },
     "execution_count": 187,
     "metadata": {},
     "output_type": "execute_result"
    }
   ],
   "source": [
    "# R-KARE: Lineer regresyonun başarı ölçütü\n",
    "# Bağımsız değişkenin bağımlı değişken üzerindeki etkisini ölçer.\n",
    "# Bağımlı değişkendeki değişkenliğin ne kadarını modelin açıkladığını gösterir.\n",
    "\n",
    "# Örneğin: Satışlar (bağımlı değişken) TV reklam harcamalarından (bağımsız değişken) ne kadar etkileniyor?\n",
    "\n",
    "# reg_model.score(X, y) → R² değerini verir.\n",
    "# - 1'e ne kadar yakınsa, model o kadar başarılıdır.\n",
    "# - 0 ise, model hiçbir açıklama yapamıyor demektir.\n",
    "# - Negatifse, model ortalamadan bile kötü sonuç veriyor.\n",
    "\n",
    "reg_model.score(X, y)"
   ]
  },
  {
   "cell_type": "markdown",
   "metadata": {},
   "source": [
    "# ---------------------------------------------------------------------------------------------------\n",
    "### Multiple Linear Regression\n",
    "# ---------------------------------------------------------------------------------------------------\n"
   ]
  },
  {
   "cell_type": "code",
   "execution_count": 188,
   "metadata": {},
   "outputs": [],
   "source": [
    "df = pd.read_csv(\"datasets/advertising.csv\") # dataya bir refresh atalım\n",
    "\n",
    "X = df.drop('sales', axis=1) # bağımlı değişkeni atıp x eksenine kaydediyoruz\n",
    "y = df[[\"sales\"]]"
   ]
  },
  {
   "cell_type": "code",
   "execution_count": 189,
   "metadata": {},
   "outputs": [],
   "source": [
    "# modeli test ve eğitim olarak ikiye ayırdık bunun teoriğini geçiyorum\n",
    "# burada X,y yerlşetirme sırası önemli ilk parametre bağımsız değişken sonra bağımlı değişken\n",
    "# test setini verinin yüzde 20 si olarak ayarladımki genelde 80 e 20 veya 75 e 25 falan tercih edilir\n",
    "# random state rastgele girdim verisetinden rastgele bölgeden train ve test oluşturacak tuarlılığı kontrol etmek için 21 sayısı değişir\n",
    "X_train, X_test, y_train, y_test = train_test_split(X, y, test_size=0.20, random_state=21)\n",
    "# kaç satır train edildiği .shape ile gözükür\n"
   ]
  },
  {
   "cell_type": "code",
   "execution_count": 190,
   "metadata": {},
   "outputs": [
    {
     "data": {
      "text/plain": [
       "array([[ 0.04621061,  0.19146787, -0.00164059]])"
      ]
     },
     "execution_count": 190,
     "metadata": {},
     "output_type": "execute_result"
    }
   ],
   "source": [
    "reg_model = LinearRegression()\n",
    "reg_model.fit(X_train, y_train)\n",
    "# burasıda modelin eğitimiydi\n",
    "\n",
    "# sabit (b - bias)\n",
    "reg_model.intercept_ # çıktı: 2.74\n",
    "\n",
    "# coefficients (w - weights)\n",
    "reg_model.coef_ # çıktı 0.046, 0.191, -0.001\n",
    "\n",
    "# denklemi --> b + x1w1 + x2w2 + x3w3 = 2.74 + tv*0.046 + radio*0.191 - newspaper*(-0.001)\n",
    "# bu değerler random state = 21 seçili bölge içindir"
   ]
  },
  {
   "cell_type": "markdown",
   "metadata": {},
   "source": [
    "# ------------------------------------------------------------------------------------\n",
    "### Tahmin Başarısını Değerlendirme\n",
    "# ------------------------------------------------------------------------------------"
   ]
  },
  {
   "cell_type": "code",
   "execution_count": 191,
   "metadata": {},
   "outputs": [
    {
     "data": {
      "text/plain": [
       "np.float64(1.6736910446097832)"
      ]
     },
     "execution_count": 191,
     "metadata": {},
     "output_type": "execute_result"
    }
   ],
   "source": [
    "y_pred = reg_model.predict(X_train) # yine modeli tahminledik\n",
    "np.sqrt(mean_squared_error(y_train, y_pred)) # 1.67 çıktı verdi yani mse hata oranı karekökü"
   ]
  },
  {
   "cell_type": "code",
   "execution_count": 192,
   "metadata": {},
   "outputs": [
    {
     "data": {
      "text/plain": [
       "0.8876272528162705"
      ]
     },
     "execution_count": 192,
     "metadata": {},
     "output_type": "execute_result"
    }
   ],
   "source": [
    "# ilişkiye bakalım r'2 ile\n",
    "reg_model.score(X_train, y_train)\n",
    "# %88 iyimiş yukarıdaki r'2 örneğine bakarsak oranımız %61 den yükseldi çünkü yeni değişkenler eklendikçe başarı artar hata düşer"
   ]
  },
  {
   "cell_type": "code",
   "execution_count": 193,
   "metadata": {},
   "outputs": [
    {
     "data": {
      "text/plain": [
       "np.float64(1.6611334844530619)"
      ]
     },
     "execution_count": 193,
     "metadata": {},
     "output_type": "execute_result"
    }
   ],
   "source": [
    "# Test RMSE\n",
    "y_pred = reg_model.predict(X_test) # birde train değilde test modeli için bi bakış atalım\n",
    "np.sqrt(mean_squared_error(y_test, y_pred))\n",
    "# 1.66 \n",
    "# aynı şekilde test verisi içinde r'2 bakılabilir"
   ]
  },
  {
   "cell_type": "markdown",
   "metadata": {},
   "source": [
    "şimdiye kadar hold out yöntemiyle ilerledik şimdide cross validationa bakalım"
   ]
  },
  {
   "cell_type": "code",
   "execution_count": 194,
   "metadata": {},
   "outputs": [
    {
     "data": {
      "text/plain": [
       "np.float64(1.6913531708051797)"
      ]
     },
     "execution_count": 194,
     "metadata": {},
     "output_type": "execute_result"
    }
   ],
   "source": [
    "# 10 Katlı CV RMSE hold out yerine tercih edilebilir ikisininde artı eksi yönleri var\n",
    "np.mean(np.sqrt(- cross_val_score(reg_model, X, y, cv=10, scoring=\"neg_mean_squared_error\")))\n",
    "# 1.69 geldi\n",
    "# gözlem sayımız bu verisetinde çok az olduğundan (200 satır) x,y train kullanmaktansa tüm değişkenleri aldım\n",
    "# bunun sonucu negatif geleceği için birde - ile çarptım"
   ]
  },
  {
   "cell_type": "markdown",
   "metadata": {},
   "source": [
    "# bonus\n",
    "### Simple Linear Regression with Gradient Descent from Scratch"
   ]
  },
  {
   "cell_type": "code",
   "execution_count": 195,
   "metadata": {},
   "outputs": [
    {
     "name": "stdout",
     "output_type": "stream",
     "text": [
      "Starting gradient descent at b = 0.001, w = 0.001, mse = 222.9477491673001\n",
      "iter=0    b=0.01    w=0.3708    mse=53.25\n",
      "iter=100    b=0.28    w=0.4788    mse=41.6\n",
      "iter=200    b=0.54    w=0.4709    mse=40.29\n",
      "iter=300    b=0.79    w=0.4633    mse=39.04\n",
      "iter=400    b=1.03    w=0.4559    mse=37.87\n",
      "iter=500    b=1.27    w=0.4487    mse=36.76\n",
      "iter=600    b=1.49    w=0.4417    mse=35.72\n",
      "iter=700    b=1.72    w=0.4349    mse=34.73\n",
      "iter=800    b=1.93    w=0.4283    mse=33.8\n",
      "iter=900    b=2.14    w=0.4219    mse=32.92\n",
      "iter=1000    b=2.35    w=0.4157    mse=32.09\n",
      "iter=1100    b=2.54    w=0.4096    mse=31.3\n",
      "iter=1200    b=2.74    w=0.4037    mse=30.56\n",
      "iter=1300    b=2.92    w=0.3980    mse=29.87\n",
      "iter=1400    b=3.10    w=0.3925    mse=29.21\n",
      "iter=1500    b=3.28    w=0.3871    mse=28.58\n",
      "iter=1600    b=3.45    w=0.3818    mse=28.0\n",
      "iter=1700    b=3.62    w=0.3767    mse=27.44\n",
      "iter=1800    b=3.78    w=0.3718    mse=26.92\n",
      "iter=1900    b=3.94    w=0.3670    mse=26.42\n",
      "iter=2000    b=4.09    w=0.3623    mse=25.96\n",
      "iter=2100    b=4.24    w=0.3578    mse=25.52\n",
      "iter=2200    b=4.38    w=0.3534    mse=25.1\n",
      "iter=2300    b=4.52    w=0.3491    mse=24.71\n",
      "iter=2400    b=4.66    w=0.3449    mse=24.34\n",
      "iter=2500    b=4.79    w=0.3409    mse=23.99\n",
      "iter=2600    b=4.92    w=0.3369    mse=23.66\n",
      "iter=2700    b=5.04    w=0.3331    mse=23.35\n",
      "iter=2800    b=5.16    w=0.3294    mse=23.05\n",
      "iter=2900    b=5.28    w=0.3258    mse=22.77\n",
      "iter=3000    b=5.40    w=0.3223    mse=22.51\n",
      "iter=3100    b=5.51    w=0.3189    mse=22.26\n",
      "iter=3200    b=5.62    w=0.3156    mse=22.03\n",
      "iter=3300    b=5.72    w=0.3124    mse=21.81\n",
      "iter=3400    b=5.82    w=0.3093    mse=21.6\n",
      "iter=3500    b=5.92    w=0.3062    mse=21.41\n",
      "iter=3600    b=6.02    w=0.3033    mse=21.22\n",
      "iter=3700    b=6.11    w=0.3004    mse=21.05\n",
      "iter=3800    b=6.20    w=0.2976    mse=20.88\n",
      "iter=3900    b=6.29    w=0.2949    mse=20.72\n",
      "iter=4000    b=6.38    w=0.2923    mse=20.58\n",
      "iter=4100    b=6.46    w=0.2898    mse=20.44\n",
      "iter=4200    b=6.54    w=0.2873    mse=20.31\n",
      "iter=4300    b=6.62    w=0.2849    mse=20.18\n",
      "iter=4400    b=6.70    w=0.2825    mse=20.06\n",
      "iter=4500    b=6.77    w=0.2803    mse=19.95\n",
      "iter=4600    b=6.84    w=0.2780    mse=19.85\n",
      "iter=4700    b=6.91    w=0.2759    mse=19.75\n",
      "iter=4800    b=6.98    w=0.2738    mse=19.66\n",
      "iter=4900    b=7.05    w=0.2718    mse=19.57\n",
      "iter=5000    b=7.11    w=0.2698    mse=19.49\n",
      "iter=5100    b=7.17    w=0.2679    mse=19.41\n",
      "iter=5200    b=7.23    w=0.2660    mse=19.34\n",
      "iter=5300    b=7.29    w=0.2642    mse=19.27\n",
      "iter=5400    b=7.35    w=0.2625    mse=19.2\n",
      "iter=5500    b=7.41    w=0.2608    mse=19.14\n",
      "iter=5600    b=7.46    w=0.2591    mse=19.08\n",
      "iter=5700    b=7.51    w=0.2575    mse=19.02\n",
      "iter=5800    b=7.56    w=0.2560    mse=18.97\n",
      "iter=5900    b=7.61    w=0.2544    mse=18.92\n",
      "iter=6000    b=7.66    w=0.2530    mse=18.88\n",
      "iter=6100    b=7.71    w=0.2515    mse=18.83\n",
      "iter=6200    b=7.75    w=0.2501    mse=18.79\n",
      "iter=6300    b=7.80    w=0.2488    mse=18.75\n",
      "iter=6400    b=7.84    w=0.2475    mse=18.72\n",
      "iter=6500    b=7.88    w=0.2462    mse=18.68\n",
      "iter=6600    b=7.92    w=0.2450    mse=18.65\n",
      "iter=6700    b=7.96    w=0.2437    mse=18.62\n",
      "iter=6800    b=8.00    w=0.2426    mse=18.59\n",
      "iter=6900    b=8.04    w=0.2414    mse=18.56\n"
     ]
    },
    {
     "ename": "KeyboardInterrupt",
     "evalue": "",
     "output_type": "error",
     "traceback": [
      "\u001b[0;31m---------------------------------------------------------------------------\u001b[0m",
      "\u001b[0;31mKeyboardInterrupt\u001b[0m                         Traceback (most recent call last)",
      "Cell \u001b[0;32mIn[195], line 68\u001b[0m\n\u001b[1;32m     65\u001b[0m initial_w \u001b[38;5;241m=\u001b[39m \u001b[38;5;241m0.001\u001b[39m\n\u001b[1;32m     66\u001b[0m num_iters \u001b[38;5;241m=\u001b[39m \u001b[38;5;241m100000\u001b[39m\n\u001b[0;32m---> 68\u001b[0m cost_history, b, w \u001b[38;5;241m=\u001b[39m \u001b[43mtrain\u001b[49m\u001b[43m(\u001b[49m\u001b[43mY\u001b[49m\u001b[43m,\u001b[49m\u001b[43m \u001b[49m\u001b[43minitial_b\u001b[49m\u001b[43m,\u001b[49m\u001b[43m \u001b[49m\u001b[43minitial_w\u001b[49m\u001b[43m,\u001b[49m\u001b[43m \u001b[49m\u001b[43mX\u001b[49m\u001b[43m,\u001b[49m\u001b[43m \u001b[49m\u001b[43mlearning_rate\u001b[49m\u001b[43m,\u001b[49m\u001b[43m \u001b[49m\u001b[43mnum_iters\u001b[49m\u001b[43m)\u001b[49m\n",
      "Cell \u001b[0;32mIn[195], line 44\u001b[0m, in \u001b[0;36mtrain\u001b[0;34m(Y, initial_b, initial_w, X, learning_rate, num_iters)\u001b[0m\n\u001b[1;32m     41\u001b[0m cost_history \u001b[38;5;241m=\u001b[39m []\n\u001b[1;32m     43\u001b[0m \u001b[38;5;28;01mfor\u001b[39;00m i \u001b[38;5;129;01min\u001b[39;00m \u001b[38;5;28mrange\u001b[39m(num_iters):\n\u001b[0;32m---> 44\u001b[0m     b, w \u001b[38;5;241m=\u001b[39m \u001b[43mupdate_weights\u001b[49m\u001b[43m(\u001b[49m\u001b[43mY\u001b[49m\u001b[43m,\u001b[49m\u001b[43m \u001b[49m\u001b[43mb\u001b[49m\u001b[43m,\u001b[49m\u001b[43m \u001b[49m\u001b[43mw\u001b[49m\u001b[43m,\u001b[49m\u001b[43m \u001b[49m\u001b[43mX\u001b[49m\u001b[43m,\u001b[49m\u001b[43m \u001b[49m\u001b[43mlearning_rate\u001b[49m\u001b[43m)\u001b[49m\n\u001b[1;32m     45\u001b[0m     mse \u001b[38;5;241m=\u001b[39m cost_function(Y, b, w, X)\n\u001b[1;32m     46\u001b[0m     cost_history\u001b[38;5;241m.\u001b[39mappend(mse)\n",
      "Cell \u001b[0;32mIn[195], line 24\u001b[0m, in \u001b[0;36mupdate_weights\u001b[0;34m(Y, b, w, X, learning_rate)\u001b[0m\n\u001b[1;32m     22\u001b[0m w_deriv_sum \u001b[38;5;241m=\u001b[39m \u001b[38;5;241m0\u001b[39m\n\u001b[1;32m     23\u001b[0m \u001b[38;5;28;01mfor\u001b[39;00m i \u001b[38;5;129;01min\u001b[39;00m \u001b[38;5;28mrange\u001b[39m(\u001b[38;5;241m0\u001b[39m, m):\n\u001b[0;32m---> 24\u001b[0m     y_hat \u001b[38;5;241m=\u001b[39m b \u001b[38;5;241m+\u001b[39m w \u001b[38;5;241m*\u001b[39m \u001b[43mX\u001b[49m\u001b[43m[\u001b[49m\u001b[43mi\u001b[49m\u001b[43m]\u001b[49m\n\u001b[1;32m     25\u001b[0m     y \u001b[38;5;241m=\u001b[39m Y[i]\n\u001b[1;32m     26\u001b[0m     b_deriv_sum \u001b[38;5;241m+\u001b[39m\u001b[38;5;241m=\u001b[39m (y_hat \u001b[38;5;241m-\u001b[39m y)\n",
      "File \u001b[0;32m~/VSCode_projeler/ml_ders_3_miuul/.venv/lib/python3.13/site-packages/pandas/core/series.py:1097\u001b[0m, in \u001b[0;36mSeries.__getitem__\u001b[0;34m(self, key)\u001b[0m\n\u001b[1;32m   1095\u001b[0m \u001b[38;5;28;01mdef\u001b[39;00m\u001b[38;5;250m \u001b[39m\u001b[38;5;21m__getitem__\u001b[39m(\u001b[38;5;28mself\u001b[39m, key):\n\u001b[1;32m   1096\u001b[0m     check_dict_or_set_indexers(key)\n\u001b[0;32m-> 1097\u001b[0m     key \u001b[38;5;241m=\u001b[39m \u001b[43mcom\u001b[49m\u001b[38;5;241;43m.\u001b[39;49m\u001b[43mapply_if_callable\u001b[49m\u001b[43m(\u001b[49m\u001b[43mkey\u001b[49m\u001b[43m,\u001b[49m\u001b[43m \u001b[49m\u001b[38;5;28;43mself\u001b[39;49m\u001b[43m)\u001b[49m\n\u001b[1;32m   1099\u001b[0m     \u001b[38;5;28;01mif\u001b[39;00m key \u001b[38;5;129;01mis\u001b[39;00m \u001b[38;5;28mEllipsis\u001b[39m:\n\u001b[1;32m   1100\u001b[0m         \u001b[38;5;28;01mif\u001b[39;00m using_copy_on_write() \u001b[38;5;129;01mor\u001b[39;00m warn_copy_on_write():\n",
      "File \u001b[0;32m~/VSCode_projeler/ml_ders_3_miuul/.venv/lib/python3.13/site-packages/pandas/core/common.py:372\u001b[0m, in \u001b[0;36mapply_if_callable\u001b[0;34m(maybe_callable, obj, **kwargs)\u001b[0m\n\u001b[1;32m    365\u001b[0m     \u001b[38;5;66;03m# everything failed (probably because the argument\u001b[39;00m\n\u001b[1;32m    366\u001b[0m     \u001b[38;5;66;03m# wasn't actually callable); we return None\u001b[39;00m\n\u001b[1;32m    367\u001b[0m     \u001b[38;5;66;03m# instead of the empty string in this case to allow\u001b[39;00m\n\u001b[1;32m    368\u001b[0m     \u001b[38;5;66;03m# distinguishing between no name and a name of ''\u001b[39;00m\n\u001b[1;32m    369\u001b[0m     \u001b[38;5;28;01mreturn\u001b[39;00m \u001b[38;5;28;01mNone\u001b[39;00m\n\u001b[0;32m--> 372\u001b[0m \u001b[38;5;28;01mdef\u001b[39;00m\u001b[38;5;250m \u001b[39m\u001b[38;5;21mapply_if_callable\u001b[39m(maybe_callable, obj, \u001b[38;5;241m*\u001b[39m\u001b[38;5;241m*\u001b[39mkwargs):\n\u001b[1;32m    373\u001b[0m \u001b[38;5;250m    \u001b[39m\u001b[38;5;124;03m\"\"\"\u001b[39;00m\n\u001b[1;32m    374\u001b[0m \u001b[38;5;124;03m    Evaluate possibly callable input using obj and kwargs if it is callable,\u001b[39;00m\n\u001b[1;32m    375\u001b[0m \u001b[38;5;124;03m    otherwise return as it is.\u001b[39;00m\n\u001b[0;32m   (...)\u001b[0m\n\u001b[1;32m    381\u001b[0m \u001b[38;5;124;03m    **kwargs\u001b[39;00m\n\u001b[1;32m    382\u001b[0m \u001b[38;5;124;03m    \"\"\"\u001b[39;00m\n\u001b[1;32m    383\u001b[0m     \u001b[38;5;28;01mif\u001b[39;00m \u001b[38;5;28mcallable\u001b[39m(maybe_callable):\n",
      "\u001b[0;31mKeyboardInterrupt\u001b[0m: "
     ]
    }
   ],
   "source": [
    "# büyük resmi görmek için exstra içerik\n",
    "\n",
    "\n",
    "# Cost function MSE\n",
    "def cost_function(Y, b, w, X):\n",
    "    m = len(Y)\n",
    "    sse = 0\n",
    "\n",
    "    for i in range(0, m):\n",
    "        y_hat = b + w * X[i]\n",
    "        y = Y[i]\n",
    "        sse += (y_hat - y) ** 2\n",
    "\n",
    "    mse = sse / m\n",
    "    return mse\n",
    "\n",
    "\n",
    "# update_weights\n",
    "def update_weights(Y, b, w, X, learning_rate):\n",
    "    m = len(Y)\n",
    "    b_deriv_sum = 0\n",
    "    w_deriv_sum = 0\n",
    "    for i in range(0, m):\n",
    "        y_hat = b + w * X[i]\n",
    "        y = Y[i]\n",
    "        b_deriv_sum += (y_hat - y)\n",
    "        w_deriv_sum += (y_hat - y) * X[i]\n",
    "    new_b = b - (learning_rate * 1 / m * b_deriv_sum)\n",
    "    new_w = w - (learning_rate * 1 / m * w_deriv_sum)\n",
    "    return new_b, new_w\n",
    "\n",
    "\n",
    "# train fonksiyonu\n",
    "def train(Y, initial_b, initial_w, X, learning_rate, num_iters):\n",
    "\n",
    "    print(\"Starting gradient descent at b = {0}, w = {1}, mse = {2}\".format(initial_b, initial_w,\n",
    "                                                                   cost_function(Y, initial_b, initial_w, X)))\n",
    "\n",
    "    b = initial_b\n",
    "    w = initial_w\n",
    "    cost_history = []\n",
    "\n",
    "    for i in range(num_iters):\n",
    "        b, w = update_weights(Y, b, w, X, learning_rate)\n",
    "        mse = cost_function(Y, b, w, X)\n",
    "        cost_history.append(mse)\n",
    "\n",
    "\n",
    "        if i % 100 == 0:\n",
    "            print(\"iter={:d}    b={:.2f}    w={:.4f}    mse={:.4}\".format(i, b, w, mse))\n",
    "\n",
    "\n",
    "    print(\"After {0} iterations b = {1}, w = {2}, mse = {3}\".format(num_iters, b, w, cost_function(Y, b, w, X)))\n",
    "    return cost_history, b, w\n",
    "\n",
    "\n",
    "df = pd.read_csv(\"datasets/advertising.csv\")\n",
    "\n",
    "X = df[\"radio\"]\n",
    "Y = df[\"sales\"]\n",
    "\n",
    "# hyperparameters\n",
    "learning_rate = 0.001\n",
    "initial_b = 0.001\n",
    "initial_w = 0.001\n",
    "num_iters = 100000\n",
    "\n",
    "cost_history, b, w = train(Y, initial_b, initial_w, X, learning_rate, num_iters)\n"
   ]
  }
 ],
 "metadata": {
  "kernelspec": {
   "display_name": ".venv",
   "language": "python",
   "name": "python3"
  },
  "language_info": {
   "codemirror_mode": {
    "name": "ipython",
    "version": 3
   },
   "file_extension": ".py",
   "mimetype": "text/x-python",
   "name": "python",
   "nbconvert_exporter": "python",
   "pygments_lexer": "ipython3",
   "version": "3.13.2"
  }
 },
 "nbformat": 4,
 "nbformat_minor": 2
}
