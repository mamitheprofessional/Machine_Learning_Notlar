{
 "cells": [
  {
   "cell_type": "markdown",
   "metadata": {},
   "source": [
    "\n",
    "# K-En Yakın Komşu ( K-Nearest Neighbors )\n"
   ]
  },
  {
   "cell_type": "markdown",
   "metadata": {},
   "source": [
    "knn bir classification algoritmasıdır çok basit ama etkili bir yöntemdir mesela koordinat düzleminde evet ve hayır etiketi verdiğimiz noktalar bulunsun biz o düzlemde birtane alanda bir nokta olsaydı bu evetmi hayırmı olurdu şeklinde gösteriyoruz makina o noktanın en yakın komşularına bakıyor mesela 3 tane hayır 2 tane evet noktası gördü ise demekki ben hayır etiketinde olmalıyım diyor"
   ]
  },
  {
   "cell_type": "code",
   "execution_count": 1,
   "metadata": {},
   "outputs": [
    {
     "data": {
      "text/html": [
       "<div>\n",
       "<style scoped>\n",
       "    .dataframe tbody tr th:only-of-type {\n",
       "        vertical-align: middle;\n",
       "    }\n",
       "\n",
       "    .dataframe tbody tr th {\n",
       "        vertical-align: top;\n",
       "    }\n",
       "\n",
       "    .dataframe thead th {\n",
       "        text-align: right;\n",
       "    }\n",
       "</style>\n",
       "<table border=\"1\" class=\"dataframe\">\n",
       "  <thead>\n",
       "    <tr style=\"text-align: right;\">\n",
       "      <th></th>\n",
       "      <th>Pregnancies</th>\n",
       "      <th>Glucose</th>\n",
       "      <th>BloodPressure</th>\n",
       "      <th>SkinThickness</th>\n",
       "      <th>Insulin</th>\n",
       "      <th>BMI</th>\n",
       "      <th>DiabetesPedigreeFunction</th>\n",
       "      <th>Age</th>\n",
       "    </tr>\n",
       "  </thead>\n",
       "  <tbody>\n",
       "    <tr>\n",
       "      <th>0</th>\n",
       "      <td>0.639947</td>\n",
       "      <td>0.848324</td>\n",
       "      <td>0.149641</td>\n",
       "      <td>0.907270</td>\n",
       "      <td>-0.692891</td>\n",
       "      <td>0.204013</td>\n",
       "      <td>0.468492</td>\n",
       "      <td>1.425995</td>\n",
       "    </tr>\n",
       "    <tr>\n",
       "      <th>1</th>\n",
       "      <td>-0.844885</td>\n",
       "      <td>-1.123396</td>\n",
       "      <td>-0.160546</td>\n",
       "      <td>0.530902</td>\n",
       "      <td>-0.692891</td>\n",
       "      <td>-0.684422</td>\n",
       "      <td>-0.365061</td>\n",
       "      <td>-0.190672</td>\n",
       "    </tr>\n",
       "    <tr>\n",
       "      <th>2</th>\n",
       "      <td>1.233880</td>\n",
       "      <td>1.943724</td>\n",
       "      <td>-0.263941</td>\n",
       "      <td>-1.288212</td>\n",
       "      <td>-0.692891</td>\n",
       "      <td>-1.103255</td>\n",
       "      <td>0.604397</td>\n",
       "      <td>-0.105584</td>\n",
       "    </tr>\n",
       "    <tr>\n",
       "      <th>3</th>\n",
       "      <td>-0.844885</td>\n",
       "      <td>-0.998208</td>\n",
       "      <td>-0.160546</td>\n",
       "      <td>0.154533</td>\n",
       "      <td>0.123302</td>\n",
       "      <td>-0.494043</td>\n",
       "      <td>-0.920763</td>\n",
       "      <td>-1.041549</td>\n",
       "    </tr>\n",
       "    <tr>\n",
       "      <th>4</th>\n",
       "      <td>-1.141852</td>\n",
       "      <td>0.504055</td>\n",
       "      <td>-1.504687</td>\n",
       "      <td>0.907270</td>\n",
       "      <td>0.765836</td>\n",
       "      <td>1.409746</td>\n",
       "      <td>5.484909</td>\n",
       "      <td>-0.020496</td>\n",
       "    </tr>\n",
       "  </tbody>\n",
       "</table>\n",
       "</div>"
      ],
      "text/plain": [
       "   Pregnancies   Glucose  BloodPressure  SkinThickness   Insulin       BMI  DiabetesPedigreeFunction       Age\n",
       "0     0.639947  0.848324       0.149641       0.907270 -0.692891  0.204013                  0.468492  1.425995\n",
       "1    -0.844885 -1.123396      -0.160546       0.530902 -0.692891 -0.684422                 -0.365061 -0.190672\n",
       "2     1.233880  1.943724      -0.263941      -1.288212 -0.692891 -1.103255                  0.604397 -0.105584\n",
       "3    -0.844885 -0.998208      -0.160546       0.154533  0.123302 -0.494043                 -0.920763 -1.041549\n",
       "4    -1.141852  0.504055      -1.504687       0.907270  0.765836  1.409746                  5.484909 -0.020496"
      ]
     },
     "execution_count": 1,
     "metadata": {},
     "output_type": "execute_result"
    }
   ],
   "source": [
    "# 1. Exploratory Data Analysis\n",
    "# 2. Data Preprocessing & Feature Engineering\n",
    "# 3. Modeling & Prediction\n",
    "# 4. Model Evaluation\n",
    "# 5. Hyperparameter Optimization\n",
    "# 6. Final Model\n",
    "\n",
    "import pandas as pd\n",
    "from sklearn.metrics import classification_report, roc_auc_score\n",
    "from sklearn.model_selection import GridSearchCV, cross_validate\n",
    "from sklearn.neighbors import KNeighborsClassifier\n",
    "from sklearn.preprocessing import StandardScaler\n",
    "pd.set_option('display.max_columns', None)\n",
    "pd.set_option('display.width', 500)\n",
    "\n",
    "\n",
    "################################################\n",
    "# 1. Exploratory Data Analysis\n",
    "################################################\n",
    "\n",
    "df = pd.read_csv(\"datasets/diabetes.csv\") # yine diyabetten devam\n",
    "\n",
    "\n",
    "\n",
    "################################################\n",
    "# 2. Data Preprocessing & Feature Engineering\n",
    "################################################\n",
    "\n",
    "y = df[\"Outcome\"]\n",
    "X = df.drop([\"Outcome\"], axis=1)\n",
    "\n",
    "X_scaled = StandardScaler().fit_transform(X) # bu numpy array olarak dönüyor o yüzden tekrar etiket isimlerini atamamız lazım\n",
    "\n",
    "X = pd.DataFrame(X_scaled, columns=X.columns) # x_scaled eskisi gibi etiketli gözükecek\n",
    "\n",
    "X.head()\n",
    "\n"
   ]
  },
  {
   "cell_type": "code",
   "execution_count": 2,
   "metadata": {},
   "outputs": [
    {
     "name": "stdout",
     "output_type": "stream",
     "text": [
      "              precision    recall  f1-score   support\n",
      "\n",
      "           0       0.85      0.90      0.87       500\n",
      "           1       0.79      0.70      0.74       268\n",
      "\n",
      "    accuracy                           0.83       768\n",
      "   macro avg       0.82      0.80      0.81       768\n",
      "weighted avg       0.83      0.83      0.83       768\n",
      "\n"
     ]
    },
    {
     "data": {
      "text/plain": [
       "np.float64(0.9017686567164179)"
      ]
     },
     "execution_count": 2,
     "metadata": {},
     "output_type": "execute_result"
    }
   ],
   "source": [
    "################################################\n",
    "# 3. Modeling & Prediction\n",
    "################################################\n",
    "\n",
    "knn_model = KNeighborsClassifier().fit(X, y)\n",
    "\n",
    "################################################\n",
    "# random_user = X.sample(1, random_state=45)     istersen bu şekildede tek bir kişiyi kontrol edebilirsin\n",
    "# knn_model.predict(random_user)                 \n",
    "################################################\n",
    "\n",
    "\n",
    "# Confusion matrix için y_pred:\n",
    "y_pred = knn_model.predict(X)\n",
    "\n",
    "# AUC için y_prob:\n",
    "y_prob = knn_model.predict_proba(X)[:, 1]\n",
    "\n",
    "print(classification_report(y, y_pred))\n",
    "\n",
    "# AUC\n",
    "roc_auc_score(y, y_prob)\n",
    "# 0.90"
   ]
  },
  {
   "cell_type": "code",
   "execution_count": 4,
   "metadata": {},
   "outputs": [
    {
     "data": {
      "text/plain": [
       "{'algorithm': 'auto',\n",
       " 'leaf_size': 30,\n",
       " 'metric': 'minkowski',\n",
       " 'metric_params': None,\n",
       " 'n_jobs': None,\n",
       " 'n_neighbors': 5,\n",
       " 'p': 2,\n",
       " 'weights': 'uniform'}"
      ]
     },
     "execution_count": 4,
     "metadata": {},
     "output_type": "execute_result"
    }
   ],
   "source": [
    "# yine sonuçlar gayet güzel gözüküyor fakat tekrardan cross validate ile test ve eğitim verisini bi kontrol edelim\n",
    "cv_results = cross_validate(knn_model, X, y, cv=5, scoring=[\"accuracy\", \"f1\", \"roc_auc\"])\n",
    "\n",
    "cv_results['test_accuracy'].mean() # 0.73\n",
    "\n",
    "cv_results['test_f1'].mean() # 0.59\n",
    "\n",
    "cv_results['test_roc_auc'].mean() # 0.78\n",
    "\n",
    "# !!!! bu değerler üsttekinden çok farklı yanlılık problemi olabilir overfitting underfitting olabilir\n",
    "# ama kesin olan şey bizim güveneceğimiz buradaki metrik ortalamalarıdır\n",
    "# peki ne yapmak lazım bu değerleri arttırmak için\n",
    "# 1. Örnek boyutu arttıralabilir.\n",
    "# 2. Veri ön işleme\n",
    "# 3. Özellik mühendisliği\n",
    "# 4. İlgili algoritma için optimizasyonlar yapılabilir.\n",
    "\n",
    "knn_model.get_params() # örnek n_neighbors 5 girili bunu deneye deneye bakacağız 2,3,6,7 hangisinde skor yükseliyorsa\n"
   ]
  },
  {
   "cell_type": "code",
   "execution_count": 6,
   "metadata": {},
   "outputs": [
    {
     "name": "stdout",
     "output_type": "stream",
     "text": [
      "Fitting 5 folds for each of 48 candidates, totalling 240 fits\n",
      "En iyi n_neighbors: {'n_neighbors': 17}\n",
      "En iyi skor: 0.7669892199303965\n"
     ]
    }
   ],
   "source": [
    "################################################\n",
    "# 5. Hyperparameter Optimization\n",
    "################################################\n",
    "\n",
    "# şimdi olması gereken en optimum komşuluk sayısını bulalım\n",
    "\n",
    "knn_model = KNeighborsClassifier() # yine modelimiz\n",
    "\n",
    "knn_params = {\"n_neighbors\": range(2, 50)} # 2 den 50 ye kadar neighbors ları arttır\n",
    "\n",
    "\n",
    "# gridsearchcv en iyi parametre kombinasyonunu bulmak için her kombinasyonu dener ve CV ile değerlendirir\n",
    "knn_gs_best = GridSearchCV(knn_model, knn_params, cv=5, n_jobs=-1, verbose=1).fit(X, y)\n",
    "# parametre olarak önce modeli girdik\n",
    "# sonra modelde kullanılacak parametreyi girdikki 2 den 50 ye kadar hepsini tek tek deneyecek\n",
    "# sonra cross validation kullanarak 5 katlı doğrulama yaptık\n",
    "# n_jobs=-1 -> tüm işlemci çekirdeklerini kullanarak işlemi hızlandırdık\n",
    "# verbose=1 -> işlem sürecini takip edebilmek için detaylı çıktı alıyoruz\n",
    "# fit(X, y) -> modeli veriye uygula (en iyi n_neighbors'ı bulmak için)\n",
    "\n",
    "# En iyi komşuluk sayısını görelim\n",
    "print(\"En iyi n_neighbors:\", knn_gs_best.best_params_)\n",
    "\n",
    "# En iyi skoru görelim\n",
    "print(\"En iyi skor:\", knn_gs_best.best_score_)\n"
   ]
  },
  {
   "cell_type": "code",
   "execution_count": 10,
   "metadata": {},
   "outputs": [
    {
     "data": {
      "text/plain": [
       "np.float64(0.8127938504542278)"
      ]
     },
     "execution_count": 10,
     "metadata": {},
     "output_type": "execute_result"
    }
   ],
   "source": [
    "# şimdide son hali\n",
    "knn_final = knn_model.set_params(**knn_gs_best.best_params_).fit(X, y) # ** sayesinde best_params_ daki parametreleri buraya uyguluyoruz\n",
    "\n",
    "cv_results = cross_validate(knn_final,\n",
    "                            X,\n",
    "                            y,\n",
    "                            cv=5,\n",
    "                            scoring=[\"accuracy\", \"f1\", \"roc_auc\"])\n",
    "\n",
    "cv_results['test_accuracy'].mean() # 0.766\n",
    "cv_results['test_f1'].mean() # 0.617\n",
    "cv_results['test_roc_auc'].mean() # 0.812\n",
    "# yani önceki çıktıları kontrol edince görülüyorki modeli optimize ettik"
   ]
  }
 ],
 "metadata": {
  "kernelspec": {
   "display_name": ".venv",
   "language": "python",
   "name": "python3"
  },
  "language_info": {
   "codemirror_mode": {
    "name": "ipython",
    "version": 3
   },
   "file_extension": ".py",
   "mimetype": "text/x-python",
   "name": "python",
   "nbconvert_exporter": "python",
   "pygments_lexer": "ipython3",
   "version": "3.13.2"
  }
 },
 "nbformat": 4,
 "nbformat_minor": 2
}
