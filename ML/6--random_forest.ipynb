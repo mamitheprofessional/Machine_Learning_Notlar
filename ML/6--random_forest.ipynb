{
 "cells": [
  {
   "cell_type": "markdown",
   "metadata": {},
   "source": [
    "cart başarılı ama overfittinge eğilimli çünkü tek bir karar ağacı aşırı uyum sağlayabilir bu sorunu çözen random forest algoritması var\n",
    "bagging(bootstrap aggregating) yöntemi ile random subspace yöntemlerinin birleşiminden oluşuyor\n",
    "ağaç oluşturulurken veri setinin 2/3 ü kullanılır kalan 1/3 lük veri ise performans değerlendirilmesinde kullanılır\n",
    "örneğin bagging yöntemi:\n",
    "1000 adet veri bulunsun elimizde rastgele seçilen 750 adeti bir ağaç haline getirilir = 1.ağaç\n",
    "sonra yine 1000 veriden rastgele seçilen 750 adeti başka bir ağaç haline getirilir = 2.ağaç\n",
    "... n adet ağaç en son birlikte yorumlanır\n",
    "\n",
    "Her ağaç için seçilmeyen %33’lük veri, Out-of-Bag (OOB) verisi olarak adlandırılır.\n",
    "Bu veriler, modelin performansını değerlendirmek için kullanılır.\n",
    "Yani modelin içsel bir \"cross-validation\" yöntemi vardır."
   ]
  },
  {
   "cell_type": "code",
   "execution_count": 2,
   "metadata": {},
   "outputs": [],
   "source": [
    "import warnings\n",
    "import numpy as np\n",
    "import pandas as pd\n",
    "import seaborn as sns\n",
    "from matplotlib import pyplot as plt\n",
    "from sklearn.ensemble import RandomForestClassifier, GradientBoostingClassifier, VotingClassifier\n",
    "from sklearn.model_selection import GridSearchCV, cross_validate, RandomizedSearchCV, validation_curve\n",
    "\n",
    "pd.set_option('display.max_columns', None)\n",
    "pd.set_option('display.width', 500)\n",
    "\n",
    "warnings.simplefilter(action='ignore', category=Warning)\n",
    "\n",
    "df = pd.read_csv(\"datasets/diabetes.csv\")\n",
    "\n",
    "y = df[\"Outcome\"]\n",
    "X = df.drop([\"Outcome\"], axis=1)"
   ]
  },
  {
   "cell_type": "code",
   "execution_count": 3,
   "metadata": {},
   "outputs": [
    {
     "data": {
      "text/plain": [
       "np.float64(0.8233960113960114)"
      ]
     },
     "execution_count": 3,
     "metadata": {},
     "output_type": "execute_result"
    }
   ],
   "source": [
    "################################################\n",
    "# Random Forests\n",
    "################################################\n",
    "\n",
    "rf_model = RandomForestClassifier(random_state=17)\n",
    "rf_model.get_params()\n",
    "# n_estimators parametresi fit edilmiş bağımsız ağaç sayısıdır\n",
    "\n",
    "cv_results = cross_validate(rf_model, X, y, cv=10, scoring=[\"accuracy\", \"f1\", \"roc_auc\"])\n",
    "cv_results['test_accuracy'].mean() # 0.753896103896104\n",
    "cv_results['test_f1'].mean() # 0.6190701534636385\n",
    "cv_results['test_roc_auc'].mean() # 0.8233960113960114\n"
   ]
  },
  {
   "cell_type": "code",
   "execution_count": 4,
   "metadata": {},
   "outputs": [
    {
     "name": "stdout",
     "output_type": "stream",
     "text": [
      "Fitting 5 folds for each of 180 candidates, totalling 900 fits\n"
     ]
    },
    {
     "data": {
      "text/plain": [
       "{'max_depth': None,\n",
       " 'max_features': 5,\n",
       " 'min_samples_split': 8,\n",
       " 'n_estimators': 500}"
      ]
     },
     "execution_count": 4,
     "metadata": {},
     "output_type": "execute_result"
    }
   ],
   "source": [
    "rf_params = {\"max_depth\": [5, 8, None], # bu sefer range ile girmiyoruz çünkü random forest bayağı zaman alıyor\n",
    "             \"max_features\": [3, 5, 7, \"auto\"],\n",
    "             \"min_samples_split\": [2, 5, 8, 15, 20],\n",
    "             \"n_estimators\": [100, 200, 500]}\n",
    "\n",
    "\n",
    "rf_best_grid = GridSearchCV(rf_model, rf_params, cv=5, n_jobs=-1, verbose=True).fit(X, y)\n",
    "\n",
    "rf_best_grid.best_params_ # okuttuğum değerler içinde en iyi seçim bunlarmış"
   ]
  },
  {
   "cell_type": "code",
   "execution_count": 5,
   "metadata": {},
   "outputs": [
    {
     "data": {
      "text/plain": [
       "np.float64(0.8271054131054132)"
      ]
     },
     "execution_count": 5,
     "metadata": {},
     "output_type": "execute_result"
    }
   ],
   "source": [
    "rf_final = rf_model.set_params(**rf_best_grid.best_params_, random_state=17).fit(X, y) # bunları modele entegre edelim\n",
    "\n",
    "cv_results = cross_validate(rf_final, X, y, cv=10, scoring=[\"accuracy\", \"f1\", \"roc_auc\"])\n",
    "cv_results['test_accuracy'].mean() # 0.76\n",
    "cv_results['test_f1'].mean() # 0.64\n",
    "cv_results['test_roc_auc'].mean() # 0.82\n",
    "# ufacık farklarla iyileşme aldık"
   ]
  },
  {
   "cell_type": "code",
   "execution_count": null,
   "metadata": {},
   "outputs": [],
   "source": [
    "# yine istenirse bunlarda kontrol edilebilir\n",
    "\n",
    "def plot_importance(model, features, num=len(X), save=False):\n",
    "    feature_imp = pd.DataFrame({'Value': model.feature_importances_, 'Feature': features.columns})\n",
    "    plt.figure(figsize=(10, 10))\n",
    "    sns.set(font_scale=1)\n",
    "    sns.barplot(x=\"Value\", y=\"Feature\", data=feature_imp.sort_values(by=\"Value\",\n",
    "                                                                     ascending=False)[0:num])\n",
    "    plt.title('Features')\n",
    "    plt.tight_layout()\n",
    "    plt.show()\n",
    "    if save:\n",
    "        plt.savefig('importances.png')\n",
    "\n",
    "plot_importance(rf_final, X)\n",
    "\n",
    "def val_curve_params(model, X, y, param_name, param_range, scoring=\"roc_auc\", cv=10):\n",
    "    train_score, test_score = validation_curve(\n",
    "        model, X=X, y=y, param_name=param_name, param_range=param_range, scoring=scoring, cv=cv)\n",
    "\n",
    "    mean_train_score = np.mean(train_score, axis=1)\n",
    "    mean_test_score = np.mean(test_score, axis=1)\n",
    "\n",
    "    plt.plot(param_range, mean_train_score,\n",
    "             label=\"Training Score\", color='b')\n",
    "\n",
    "    plt.plot(param_range, mean_test_score,\n",
    "             label=\"Validation Score\", color='g')\n",
    "\n",
    "    plt.title(f\"Validation Curve for {type(model).__name__}\")\n",
    "    plt.xlabel(f\"Number of {param_name}\")\n",
    "    plt.ylabel(f\"{scoring}\")\n",
    "    plt.tight_layout()\n",
    "    plt.legend(loc='best')\n",
    "    plt.show(block=True)\n",
    "\n",
    "val_curve_params(rf_final, X, y, \"max_depth\", range(1, 11), scoring=\"roc_auc\")"
   ]
  }
 ],
 "metadata": {
  "kernelspec": {
   "display_name": ".venv",
   "language": "python",
   "name": "python3"
  },
  "language_info": {
   "codemirror_mode": {
    "name": "ipython",
    "version": 3
   },
   "file_extension": ".py",
   "mimetype": "text/x-python",
   "name": "python",
   "nbconvert_exporter": "python",
   "pygments_lexer": "ipython3",
   "version": "3.13.2"
  }
 },
 "nbformat": 4,
 "nbformat_minor": 2
}
